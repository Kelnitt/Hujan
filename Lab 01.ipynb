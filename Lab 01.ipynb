{
  "nbformat": 4,
  "nbformat_minor": 0,
  "metadata": {
    "colab": {
      "provenance": []
    },
    "kernelspec": {
      "name": "python3",
      "display_name": "Python 3"
    },
    "language_info": {
      "name": "python"
    }
  },
  "cells": [
    {
      "cell_type": "code",
      "execution_count": 1,
      "metadata": {
        "colab": {
          "base_uri": "https://localhost:8080/"
        },
        "id": "RfQal-C7t_cR",
        "outputId": "462bf70b-3a9f-4b2a-9bc4-07c3e60f6b85"
      },
      "outputs": [
        {
          "output_type": "execute_result",
          "data": {
            "text/plain": [
              "array([3, 5])"
            ]
          },
          "metadata": {},
          "execution_count": 1
        }
      ],
      "source": [
        "import numpy as np\n",
        "\n",
        "inputs = np.array([3, 5])\n",
        "\n",
        "inputs"
      ]
    },
    {
      "cell_type": "code",
      "source": [
        "weights = {'node_0' : np.array([2, 4]), 'node_1':np.array([4, -5]), 'output':np.array([2, 7])}"
      ],
      "metadata": {
        "id": "lWkn8lZAuh1r"
      },
      "execution_count": 2,
      "outputs": []
    },
    {
      "cell_type": "code",
      "source": [
        "node_0_value = np.sum(inputs * weights['node_0'])\n",
        "\n",
        "node_1_value = np.sum(inputs * weights['node_1'])\n",
        "\n",
        "layers = [node_0_value, node_1_value]\n",
        "\n",
        "layers"
      ],
      "metadata": {
        "colab": {
          "base_uri": "https://localhost:8080/"
        },
        "id": "w-C7iRcLvmMd",
        "outputId": "ec4917f0-a58a-4a89-be58-70b74fb87111"
      },
      "execution_count": 3,
      "outputs": [
        {
          "output_type": "execute_result",
          "data": {
            "text/plain": [
              "[np.int64(26), np.int64(-13)]"
            ]
          },
          "metadata": {},
          "execution_count": 3
        }
      ]
    },
    {
      "cell_type": "code",
      "source": [
        "result = np.sum(layers * weights['output'])\n",
        "\n",
        "result"
      ],
      "metadata": {
        "colab": {
          "base_uri": "https://localhost:8080/"
        },
        "id": "bAPs9GupwNoZ",
        "outputId": "5b181e3b-94c3-4573-ef60-b27b70229c06"
      },
      "execution_count": 4,
      "outputs": [
        {
          "output_type": "execute_result",
          "data": {
            "text/plain": [
              "np.int64(-39)"
            ]
          },
          "metadata": {},
          "execution_count": 4
        }
      ]
    },
    {
      "cell_type": "code",
      "source": [
        "relu = lambda i : max(0, i)\n",
        "\n",
        "node_0_value = relu(np.sum(inputs * weights['node_0']))\n",
        "\n",
        "node_1_value = relu(np.sum(inputs * weights['node_1']))\n",
        "\n",
        "layers = [node_0_value, node_1_value]\n",
        "\n",
        "layers"
      ],
      "metadata": {
        "colab": {
          "base_uri": "https://localhost:8080/"
        },
        "id": "dPfHc6cJwquP",
        "outputId": "da3b92eb-27bb-4a64-e2be-6ac05e271a1a"
      },
      "execution_count": 5,
      "outputs": [
        {
          "output_type": "execute_result",
          "data": {
            "text/plain": [
              "[np.int64(26), 0]"
            ]
          },
          "metadata": {},
          "execution_count": 5
        }
      ]
    },
    {
      "cell_type": "code",
      "source": [
        "result = np.sum(layers * weights['output'])\n",
        "\n",
        "result"
      ],
      "metadata": {
        "colab": {
          "base_uri": "https://localhost:8080/"
        },
        "id": "-r_8cKKww53b",
        "outputId": "0977aed7-4cbf-4825-9d8c-44b4d3cf035d"
      },
      "execution_count": 6,
      "outputs": [
        {
          "output_type": "execute_result",
          "data": {
            "text/plain": [
              "np.int64(52)"
            ]
          },
          "metadata": {},
          "execution_count": 6
        }
      ]
    },
    {
      "cell_type": "code",
      "source": [
        "def neural_network(inputs, weights):\n",
        "  \"\"\"\n",
        "  Forward Propagation\n",
        "  \"\"\"\n",
        "  node_0_value = relu(np.sum(inputs * weights['node_0']))\n",
        "\n",
        "  node_1_value = relu(np.sum(inputs * weights['node_1']))\n",
        "\n",
        "  layers = [node_0_value, node_1_value]\n",
        "\n",
        "  result = np.sum(layers * weights['output'])\n",
        "\n",
        "  return result\n",
        "\n",
        "neural_network(inputs, weights)"
      ],
      "metadata": {
        "colab": {
          "base_uri": "https://localhost:8080/"
        },
        "id": "xX-a22IbzmXY",
        "outputId": "452734e7-5787-4f9f-f867-569672ee6028"
      },
      "execution_count": 7,
      "outputs": [
        {
          "output_type": "execute_result",
          "data": {
            "text/plain": [
              "np.int64(52)"
            ]
          },
          "metadata": {},
          "execution_count": 7
        }
      ]
    },
    {
      "cell_type": "code",
      "source": [
        "def multilayer_neural_network(inputs, weights):\n",
        "  \"\"\"\n",
        "  Multi Layer Forward Propagation\n",
        "  \"\"\"\n",
        "  node_0_0_value = relu(np.sum(inputs * weights['node_0_0']))\n",
        "\n",
        "  node_0_1_value = relu(np.sum(inputs * weights['node_0_1']))\n",
        "\n",
        "  null_layer = [node_0_0_value, node_0_1_value]\n",
        "\n",
        "  node_1_0_value = relu(np.sum(null_layer * weights['node_1_0']))\n",
        "\n",
        "  node_1_1_value = relu(np.sum(null_layer * weights['node_1_1']))\n",
        "\n",
        "  layers = [node_1_0_value, node_1_1_value]\n",
        "\n",
        "  result = np.sum(layers * weights['output'])\n",
        "\n",
        "  return result\n",
        "\n",
        "weights = {'node_0_0': np.array([2, 4]), 'node_0_1': np.array([ 4, -5])}\n",
        "\n",
        "weights['node_1_0'] = np.array([-1,  2]); weights['node_1_1'] = np.array([1, 2])\n",
        "\n",
        "weights['output'] = np.array([2, 7])\n",
        "\n",
        "multilayer_neural_network(inputs, weights)"
      ],
      "metadata": {
        "colab": {
          "base_uri": "https://localhost:8080/"
        },
        "id": "i7aG-23C08wF",
        "outputId": "79d794f3-579e-4313-d27b-e0a214f165f7"
      },
      "execution_count": 8,
      "outputs": [
        {
          "output_type": "execute_result",
          "data": {
            "text/plain": [
              "np.int64(182)"
            ]
          },
          "metadata": {},
          "execution_count": 8
        }
      ]
    },
    {
      "cell_type": "code",
      "source": [
        "inputs = np.array([0, 3])\n",
        "\n",
        "weights = {'node_0': np.array([2, 1]), 'node_1': np.array([1, 2]), 'output': np.array([1, 1])}\n",
        "\n",
        "result = neural_network(inputs, weights)\n",
        "\n",
        "result"
      ],
      "metadata": {
        "id": "36sQNlm89jGv",
        "outputId": "b7616dba-bec3-412b-a40c-f371359cef82",
        "colab": {
          "base_uri": "https://localhost:8080/"
        }
      },
      "execution_count": 9,
      "outputs": [
        {
          "output_type": "execute_result",
          "data": {
            "text/plain": [
              "np.int64(9)"
            ]
          },
          "metadata": {},
          "execution_count": 9
        }
      ]
    },
    {
      "cell_type": "code",
      "source": [
        "label = 3\n",
        "\n",
        "error = result - label\n",
        "\n",
        "error"
      ],
      "metadata": {
        "id": "8ZtpARR096u1",
        "outputId": "032e0623-5016-4624-9364-532d41ea5b0d",
        "colab": {
          "base_uri": "https://localhost:8080/"
        }
      },
      "execution_count": 10,
      "outputs": [
        {
          "output_type": "execute_result",
          "data": {
            "text/plain": [
              "np.int64(6)"
            ]
          },
          "metadata": {},
          "execution_count": 10
        }
      ]
    },
    {
      "cell_type": "code",
      "source": [
        "weights = {'node_0': np.array([2, 1]), 'node_1': np.array([1, 0]), 'output': np.array([1, 1])}\n",
        "\n",
        "result = neural_network(inputs, weights)\n",
        "\n",
        "error = result - label\n",
        "\n",
        "error"
      ],
      "metadata": {
        "id": "PWMj22D_-Fx3",
        "outputId": "c8e36705-1bfa-4b7c-c16a-7514b3ed4c71",
        "colab": {
          "base_uri": "https://localhost:8080/"
        }
      },
      "execution_count": 11,
      "outputs": [
        {
          "output_type": "execute_result",
          "data": {
            "text/plain": [
              "np.int64(0)"
            ]
          },
          "metadata": {},
          "execution_count": 11
        }
      ]
    }
  ]
}