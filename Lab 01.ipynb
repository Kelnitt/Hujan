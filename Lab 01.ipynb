{
  "nbformat": 4,
  "nbformat_minor": 0,
  "metadata": {
    "colab": {
      "provenance": []
    },
    "kernelspec": {
      "name": "python3",
      "display_name": "Python 3"
    },
    "language_info": {
      "name": "python"
    }
  },
  "cells": [
    {
      "cell_type": "code",
      "execution_count": 1,
      "metadata": {
        "colab": {
          "base_uri": "https://localhost:8080/"
        },
        "id": "RfQal-C7t_cR",
        "outputId": "dd61b5be-872f-44eb-9709-85a5e49235f8"
      },
      "outputs": [
        {
          "output_type": "execute_result",
          "data": {
            "text/plain": [
              "array([3, 5])"
            ]
          },
          "metadata": {},
          "execution_count": 1
        }
      ],
      "source": [
        "import numpy as np\n",
        "\n",
        "inputs = np.array([3, 5])\n",
        "\n",
        "inputs"
      ]
    },
    {
      "cell_type": "code",
      "source": [
        "weights = {'node_0' : np.array([2, 4]), 'node_1':np.array([4, -5]), 'output':np.array([2, 7])}"
      ],
      "metadata": {
        "id": "lWkn8lZAuh1r"
      },
      "execution_count": 2,
      "outputs": []
    },
    {
      "cell_type": "code",
      "source": [
        "node_0_value = np.sum(inputs * weights['node_0'])\n",
        "\n",
        "node_1_value = np.sum(inputs * weights['node_1'])\n",
        "\n",
        "layers = [node_0_value, node_1_value]\n",
        "\n",
        "layers"
      ],
      "metadata": {
        "colab": {
          "base_uri": "https://localhost:8080/"
        },
        "id": "w-C7iRcLvmMd",
        "outputId": "adf4e21e-e980-4f2d-b71d-f3b93a403202"
      },
      "execution_count": 3,
      "outputs": [
        {
          "output_type": "execute_result",
          "data": {
            "text/plain": [
              "[np.int64(26), np.int64(-13)]"
            ]
          },
          "metadata": {},
          "execution_count": 3
        }
      ]
    },
    {
      "cell_type": "code",
      "source": [
        "result = np.sum(layers * weights['output'])\n",
        "\n",
        "result"
      ],
      "metadata": {
        "colab": {
          "base_uri": "https://localhost:8080/"
        },
        "id": "bAPs9GupwNoZ",
        "outputId": "6eb9b4a7-f441-4456-f382-387708eaee43"
      },
      "execution_count": 4,
      "outputs": [
        {
          "output_type": "execute_result",
          "data": {
            "text/plain": [
              "np.int64(-39)"
            ]
          },
          "metadata": {},
          "execution_count": 4
        }
      ]
    },
    {
      "cell_type": "code",
      "source": [
        "relu = lambda i : max(0, i)\n",
        "\n",
        "node_0_value = relu(np.sum(inputs * weights['node_0']))\n",
        "\n",
        "node_1_value = relu(np.sum(inputs * weights['node_1']))\n",
        "\n",
        "layers = [node_0_value, node_1_value]\n",
        "\n",
        "layers"
      ],
      "metadata": {
        "colab": {
          "base_uri": "https://localhost:8080/"
        },
        "id": "dPfHc6cJwquP",
        "outputId": "66b21006-1158-4ad9-f62b-0a69b0e307b9"
      },
      "execution_count": 5,
      "outputs": [
        {
          "output_type": "execute_result",
          "data": {
            "text/plain": [
              "[np.int64(26), 0]"
            ]
          },
          "metadata": {},
          "execution_count": 5
        }
      ]
    },
    {
      "cell_type": "code",
      "source": [
        "result = np.sum(layers * weights['output'])\n",
        "\n",
        "result"
      ],
      "metadata": {
        "colab": {
          "base_uri": "https://localhost:8080/"
        },
        "id": "-r_8cKKww53b",
        "outputId": "ef5d25d4-4a2e-4810-b5d8-ffeb4c319f98"
      },
      "execution_count": 6,
      "outputs": [
        {
          "output_type": "execute_result",
          "data": {
            "text/plain": [
              "np.int64(52)"
            ]
          },
          "metadata": {},
          "execution_count": 6
        }
      ]
    },
    {
      "cell_type": "code",
      "source": [
        "def neural_network(inputs, weights):\n",
        "  \"\"\"\n",
        "  Forward Propagation\n",
        "  \"\"\"\n",
        "  node_0_value = relu(np.sum(inputs * weights['node_0']))\n",
        "\n",
        "  node_1_value = relu(np.sum(inputs * weights['node_1']))\n",
        "\n",
        "  layers = [node_0_value, node_1_value]\n",
        "\n",
        "  result = np.sum(layers * weights['output'])\n",
        "\n",
        "  return result\n",
        "\n",
        "neural_network(inputs, weights)"
      ],
      "metadata": {
        "colab": {
          "base_uri": "https://localhost:8080/"
        },
        "id": "xX-a22IbzmXY",
        "outputId": "e2c9c0ba-b703-4db2-b884-e6828b960d8c"
      },
      "execution_count": 7,
      "outputs": [
        {
          "output_type": "execute_result",
          "data": {
            "text/plain": [
              "np.int64(52)"
            ]
          },
          "metadata": {},
          "execution_count": 7
        }
      ]
    },
    {
      "cell_type": "code",
      "source": [
        "def multilayer_neural_network(inputs, weights):\n",
        "  \"\"\"\n",
        "  Multi Layer Forward Propagation\n",
        "  \"\"\"\n",
        "  node_0_0_value = relu(np.sum(inputs * weights['node_0_0']))\n",
        "\n",
        "  node_0_1_value = relu(np.sum(inputs * weights['node_0_1']))\n",
        "\n",
        "  null_layer = [node_0_0_value, node_0_1_value]\n",
        "\n",
        "  node_1_0_value = relu(np.sum(null_layer * weights['node_1_0']))\n",
        "\n",
        "  node_1_1_value = relu(np.sum(null_layer * weights['node_1_1']))\n",
        "\n",
        "  layers = [node_1_0_value, node_1_1_value]\n",
        "\n",
        "  result = np.sum(layers * weights['output'])\n",
        "\n",
        "  return result\n",
        "\n",
        "weights = {'node_0_0': np.array([2, 4]), 'node_0_1': np.array([ 4, -5])}\n",
        "\n",
        "weights['node_1_0'] = np.array([-1,  2]); weights['node_1_1'] = np.array([1, 2])\n",
        "\n",
        "weights['output'] = np.array([2, 7])\n",
        "\n",
        "multilayer_neural_network(inputs, weights)"
      ],
      "metadata": {
        "colab": {
          "base_uri": "https://localhost:8080/"
        },
        "id": "i7aG-23C08wF",
        "outputId": "40aecc27-aa20-4e9d-f4c9-56aa5ee53ecb"
      },
      "execution_count": 8,
      "outputs": [
        {
          "output_type": "execute_result",
          "data": {
            "text/plain": [
              "np.int64(182)"
            ]
          },
          "metadata": {},
          "execution_count": 8
        }
      ]
    }
  ]
}