{
  "nbformat": 4,
  "nbformat_minor": 0,
  "metadata": {
    "colab": {
      "provenance": []
    },
    "kernelspec": {
      "name": "python3",
      "display_name": "Python 3"
    },
    "language_info": {
      "name": "python"
    }
  },
  "cells": [
    {
      "cell_type": "code",
      "execution_count": 1,
      "metadata": {
        "colab": {
          "base_uri": "https://localhost:8080/"
        },
        "id": "RfQal-C7t_cR",
        "outputId": "1c511463-60f8-4c10-b8f7-b9cc4c134bab"
      },
      "outputs": [
        {
          "output_type": "execute_result",
          "data": {
            "text/plain": [
              "array([3, 5])"
            ]
          },
          "metadata": {},
          "execution_count": 1
        }
      ],
      "source": [
        "import numpy as np\n",
        "\n",
        "inputs = np.array([3, 5])\n",
        "\n",
        "inputs"
      ]
    },
    {
      "cell_type": "code",
      "source": [
        "weights = {'node_0' : np.array([2, 4]), 'node_1':np.array([4, -5]), 'output':np.array([2, 7])}"
      ],
      "metadata": {
        "id": "lWkn8lZAuh1r"
      },
      "execution_count": 2,
      "outputs": []
    },
    {
      "cell_type": "code",
      "source": [
        "node_0_value = np.sum(inputs * weights['node_0'])\n",
        "\n",
        "node_1_value = np.sum(inputs * weights['node_1'])\n",
        "\n",
        "layers = [node_0_value, node_1_value]\n",
        "\n",
        "layers"
      ],
      "metadata": {
        "colab": {
          "base_uri": "https://localhost:8080/"
        },
        "id": "w-C7iRcLvmMd",
        "outputId": "20afc44d-c61a-4842-c485-331c58884c31"
      },
      "execution_count": 3,
      "outputs": [
        {
          "output_type": "execute_result",
          "data": {
            "text/plain": [
              "[np.int64(26), np.int64(-13)]"
            ]
          },
          "metadata": {},
          "execution_count": 3
        }
      ]
    },
    {
      "cell_type": "code",
      "source": [
        "result = np.sum(layers * weights['output'])\n",
        "\n",
        "result"
      ],
      "metadata": {
        "colab": {
          "base_uri": "https://localhost:8080/"
        },
        "id": "bAPs9GupwNoZ",
        "outputId": "ea7642cb-05e5-466e-b7d7-f4fdb6014020"
      },
      "execution_count": 4,
      "outputs": [
        {
          "output_type": "execute_result",
          "data": {
            "text/plain": [
              "np.int64(-39)"
            ]
          },
          "metadata": {},
          "execution_count": 4
        }
      ]
    },
    {
      "cell_type": "code",
      "source": [
        "relu = lambda i : max(0, i)\n",
        "\n",
        "node_0_value = relu(np.sum(inputs * weights['node_0']))\n",
        "\n",
        "node_1_value = relu(np.sum(inputs * weights['node_1']))\n",
        "\n",
        "layers = [node_0_value, node_1_value]\n",
        "\n",
        "layers"
      ],
      "metadata": {
        "colab": {
          "base_uri": "https://localhost:8080/"
        },
        "id": "dPfHc6cJwquP",
        "outputId": "5a65e107-b548-4885-a657-29aff8394157"
      },
      "execution_count": 5,
      "outputs": [
        {
          "output_type": "execute_result",
          "data": {
            "text/plain": [
              "[np.int64(26), 0]"
            ]
          },
          "metadata": {},
          "execution_count": 5
        }
      ]
    },
    {
      "cell_type": "code",
      "source": [
        "result = np.sum(layers * weights['output'])\n",
        "\n",
        "result"
      ],
      "metadata": {
        "colab": {
          "base_uri": "https://localhost:8080/"
        },
        "id": "-r_8cKKww53b",
        "outputId": "0afcaa2d-dd88-40bc-844a-ca3fec2a0416"
      },
      "execution_count": 6,
      "outputs": [
        {
          "output_type": "execute_result",
          "data": {
            "text/plain": [
              "np.int64(52)"
            ]
          },
          "metadata": {},
          "execution_count": 6
        }
      ]
    },
    {
      "cell_type": "code",
      "source": [
        "def neural_network(inputs, weights):\n",
        "  \"\"\"\n",
        "  Forward Propagation\n",
        "  \"\"\"\n",
        "  node_0_value = relu(np.sum(inputs * weights['node_0']))\n",
        "\n",
        "  node_1_value = relu(np.sum(inputs * weights['node_1']))\n",
        "\n",
        "  layers = [node_0_value, node_1_value]\n",
        "\n",
        "  result = np.sum(layers * weights['output'])\n",
        "\n",
        "  return result\n",
        "\n",
        "neural_network(inputs, weights)"
      ],
      "metadata": {
        "colab": {
          "base_uri": "https://localhost:8080/"
        },
        "id": "xX-a22IbzmXY",
        "outputId": "97ca2faa-d53f-42a4-d019-368255c3e5fa"
      },
      "execution_count": 7,
      "outputs": [
        {
          "output_type": "execute_result",
          "data": {
            "text/plain": [
              "np.int64(52)"
            ]
          },
          "metadata": {},
          "execution_count": 7
        }
      ]
    },
    {
      "cell_type": "code",
      "source": [
        "def multilayer_neural_network(inputs, weights):\n",
        "  \"\"\"\n",
        "  Multi Layer Forward Propagation\n",
        "  \"\"\"\n",
        "  node_0_0_value = relu(np.sum(inputs * weights['node_0_0']))\n",
        "\n",
        "  node_0_1_value = relu(np.sum(inputs * weights['node_0_1']))\n",
        "\n",
        "  null_layer = [node_0_0_value, node_0_1_value]\n",
        "\n",
        "  node_1_0_value = relu(np.sum(null_layer * weights['node_1_0']))\n",
        "\n",
        "  node_1_1_value = relu(np.sum(null_layer * weights['node_1_1']))\n",
        "\n",
        "  layers = [node_1_0_value, node_1_1_value]\n",
        "\n",
        "  result = np.sum(layers * weights['output'])\n",
        "\n",
        "  return result\n",
        "\n",
        "weights = {'node_0_0': np.array([2, 4]), 'node_0_1': np.array([ 4, -5])}\n",
        "\n",
        "weights['node_1_0'] = np.array([-1,  2]); weights['node_1_1'] = np.array([1, 2])\n",
        "\n",
        "weights['output'] = np.array([2, 7])\n",
        "\n",
        "multilayer_neural_network(inputs, weights)"
      ],
      "metadata": {
        "colab": {
          "base_uri": "https://localhost:8080/"
        },
        "id": "i7aG-23C08wF",
        "outputId": "ff166f13-173d-4815-99b1-bb65e5a31ea9"
      },
      "execution_count": 8,
      "outputs": [
        {
          "output_type": "execute_result",
          "data": {
            "text/plain": [
              "np.int64(182)"
            ]
          },
          "metadata": {},
          "execution_count": 8
        }
      ]
    },
    {
      "cell_type": "code",
      "source": [
        "inputs = np.array([0, 3])\n",
        "\n",
        "weights = {'node_0': np.array([2, 1]), 'node_1': np.array([1, 2]), 'output': np.array([1, 1])}\n",
        "\n",
        "result = neural_network(inputs, weights)\n",
        "\n",
        "result"
      ],
      "metadata": {
        "id": "36sQNlm89jGv",
        "outputId": "ef2af452-7c1a-4645-ba63-77ecda869861",
        "colab": {
          "base_uri": "https://localhost:8080/"
        }
      },
      "execution_count": 9,
      "outputs": [
        {
          "output_type": "execute_result",
          "data": {
            "text/plain": [
              "np.int64(9)"
            ]
          },
          "metadata": {},
          "execution_count": 9
        }
      ]
    },
    {
      "cell_type": "code",
      "source": [
        "label = 3\n",
        "\n",
        "error = result - label\n",
        "\n",
        "error"
      ],
      "metadata": {
        "id": "8ZtpARR096u1",
        "outputId": "50534d34-293d-45f3-abd4-390d6a580018",
        "colab": {
          "base_uri": "https://localhost:8080/"
        }
      },
      "execution_count": 10,
      "outputs": [
        {
          "output_type": "execute_result",
          "data": {
            "text/plain": [
              "np.int64(6)"
            ]
          },
          "metadata": {},
          "execution_count": 10
        }
      ]
    },
    {
      "cell_type": "code",
      "source": [
        "weights = {'node_0': np.array([2, 1]), 'node_1': np.array([1, 0]), 'output': np.array([1, 1])}\n",
        "\n",
        "result = neural_network(inputs, weights)\n",
        "\n",
        "error = result - label\n",
        "\n",
        "error"
      ],
      "metadata": {
        "id": "PWMj22D_-Fx3",
        "outputId": "a44c551d-8426-4acb-af38-20635827518b",
        "colab": {
          "base_uri": "https://localhost:8080/"
        }
      },
      "execution_count": 11,
      "outputs": [
        {
          "output_type": "execute_result",
          "data": {
            "text/plain": [
              "np.int64(0)"
            ]
          },
          "metadata": {},
          "execution_count": 11
        }
      ]
    },
    {
      "cell_type": "code",
      "source": [
        "multiples = [np.array([0, 3]), np.array([1, 2]), np.array([-1, -2]), np.array([4, 0])]\n",
        "\n",
        "weights = {'node_0': np.array([2, 1]), 'node_1': np.array([1, 2]), 'output': np.array([1, 1])}\n",
        "\n",
        "result = [neural_network(input, weights) for input in multiples]\n",
        "\n",
        "result"
      ],
      "metadata": {
        "id": "tQzhOH0PsjT0",
        "outputId": "467eafaf-4cb5-431d-ddbf-211135fa18cb",
        "colab": {
          "base_uri": "https://localhost:8080/"
        }
      },
      "execution_count": 12,
      "outputs": [
        {
          "output_type": "execute_result",
          "data": {
            "text/plain": [
              "[np.int64(9), np.int64(9), np.int64(0), np.int64(12)]"
            ]
          },
          "metadata": {},
          "execution_count": 12
        }
      ]
    },
    {
      "cell_type": "code",
      "source": [
        "from sklearn.metrics import mean_squared_error\n",
        "\n",
        "labels = [1, 3, 5, 7]\n",
        "\n",
        "mean_squared_error(result, labels)"
      ],
      "metadata": {
        "id": "mt74Zq4Athx-",
        "outputId": "93e76381-2c45-4a96-ec9a-969a7e41449e",
        "colab": {
          "base_uri": "https://localhost:8080/"
        }
      },
      "execution_count": 13,
      "outputs": [
        {
          "output_type": "execute_result",
          "data": {
            "text/plain": [
              "37.5"
            ]
          },
          "metadata": {},
          "execution_count": 13
        }
      ]
    },
    {
      "cell_type": "code",
      "source": [
        "weights = {'node_0': np.array([2, 1]), 'node_1': np.array([1, 1.5]), 'output': np.array([1, 1.5])}\n",
        "\n",
        "result = [neural_network(input, weights) for input in multiples]\n",
        "\n",
        "mean_squared_error(result, labels)"
      ],
      "metadata": {
        "id": "Tc9o5gK-t453",
        "outputId": "ac94bc47-0a03-4e3e-8d07-1480f841a5c7",
        "colab": {
          "base_uri": "https://localhost:8080/"
        }
      },
      "execution_count": 15,
      "outputs": [
        {
          "output_type": "execute_result",
          "data": {
            "text/plain": [
              "49.890625"
            ]
          },
          "metadata": {},
          "execution_count": 15
        }
      ]
    },
    {
      "cell_type": "code",
      "source": [
        "input = np.array([1, 2, 3])\n",
        "\n",
        "weights = np.array([0, 2, 1])\n",
        "\n",
        "target = 0"
      ],
      "metadata": {
        "id": "yR1YjTCjulN_"
      },
      "execution_count": 16,
      "outputs": []
    },
    {
      "cell_type": "code",
      "source": [
        "preds = (weights * input).sum()\n",
        "\n",
        "error = preds - target\n",
        "\n",
        "slope = 2 * input * error\n",
        "\n",
        "slope"
      ],
      "metadata": {
        "id": "eKbDZ1x8uqew",
        "outputId": "e551e9f5-7e68-4047-92da-5dd54ace7b34",
        "colab": {
          "base_uri": "https://localhost:8080/"
        }
      },
      "execution_count": 17,
      "outputs": [
        {
          "output_type": "execute_result",
          "data": {
            "text/plain": [
              "array([14, 28, 42])"
            ]
          },
          "metadata": {},
          "execution_count": 17
        }
      ]
    },
    {
      "cell_type": "code",
      "source": [
        "learning_rate = 0.01\n",
        "\n",
        "preds = (weights * input).sum()\n",
        "\n",
        "error = preds - target\n",
        "\n",
        "slope = 2 * input * error\n",
        "\n",
        "weights = weights - (learning_rate * slope)\n",
        "\n",
        "weights"
      ],
      "metadata": {
        "id": "UG6Cu2fUu4fS",
        "outputId": "13ce9e20-e48e-40c9-bab6-69713725d38c",
        "colab": {
          "base_uri": "https://localhost:8080/"
        }
      },
      "execution_count": 18,
      "outputs": [
        {
          "output_type": "execute_result",
          "data": {
            "text/plain": [
              "array([-0.14,  1.72,  0.58])"
            ]
          },
          "metadata": {},
          "execution_count": 18
        }
      ]
    },
    {
      "cell_type": "code",
      "source": [
        "error"
      ],
      "metadata": {
        "id": "vZvRU04yvPa5",
        "outputId": "a29dbd3a-8ba2-47b5-ed7d-5aed78f96e11",
        "colab": {
          "base_uri": "https://localhost:8080/"
        }
      },
      "execution_count": 19,
      "outputs": [
        {
          "output_type": "execute_result",
          "data": {
            "text/plain": [
              "np.int64(7)"
            ]
          },
          "metadata": {},
          "execution_count": 19
        }
      ]
    },
    {
      "cell_type": "code",
      "source": [
        "logits = (weights * input).sum()\n",
        "\n",
        "error = logits - target\n",
        "\n",
        "error"
      ],
      "metadata": {
        "id": "TXUJJJ9mvahp",
        "outputId": "1d5bcf01-c43f-43fe-c004-5da77cbb6d50",
        "colab": {
          "base_uri": "https://localhost:8080/"
        }
      },
      "execution_count": 20,
      "outputs": [
        {
          "output_type": "execute_result",
          "data": {
            "text/plain": [
              "np.float64(5.04)"
            ]
          },
          "metadata": {},
          "execution_count": 20
        }
      ]
    },
    {
      "cell_type": "code",
      "source": [
        "import matplotlib.pyplot as plt\n",
        "\n",
        "inputs = np.array([1, 2, 3])\n",
        "\n",
        "weights = np.array([-0.49929916,  1.00140168, -0.49789747])\n",
        "\n",
        "target = 0"
      ],
      "metadata": {
        "id": "PfRMe2Qjvy6X"
      },
      "execution_count": 21,
      "outputs": []
    },
    {
      "cell_type": "code",
      "source": [
        "def return_slope(input, weights, target):\n",
        "  \"\"\"\n",
        "  Get Slope\n",
        "  \"\"\"\n",
        "  logits = (weights * input).sum()\n",
        "\n",
        "  error = logits - target\n",
        "\n",
        "  slope = 2 * input * error\n",
        "\n",
        "  return slope"
      ],
      "metadata": {
        "id": "gS-Pwh3IwGU9"
      },
      "execution_count": 22,
      "outputs": []
    },
    {
      "cell_type": "code",
      "source": [
        "def compute_loss(input, weights, target):\n",
        "  \"\"\"\n",
        "  Get Loss\n",
        "  \"\"\"\n",
        "  logits = (weights * input).sum()\n",
        "\n",
        "  return logits - target"
      ],
      "metadata": {
        "id": "fouHPW5oxmcn"
      },
      "execution_count": 23,
      "outputs": []
    },
    {
      "cell_type": "code",
      "source": [
        "loops = 20\n",
        "\n",
        "errors = []\n",
        "\n",
        "for i in range(loops):\n",
        "\n",
        "  slope = return_slope(inputs, weights, target)\n",
        "\n",
        "  weights = weights - (0.01 * slope)\n",
        "\n",
        "  errors.append(compute_loss(inputs, weights, target))"
      ],
      "metadata": {
        "id": "MztKvUdKwyck"
      },
      "execution_count": 24,
      "outputs": []
    },
    {
      "cell_type": "code",
      "source": [
        "plt.plot(errors)\n",
        "\n",
        "plt.ylabel('Error Rate');"
      ],
      "metadata": {
        "id": "iOzG99ltyVyq",
        "outputId": "21c7ebda-cb99-459d-b277-c419869ce5cd",
        "colab": {
          "base_uri": "https://localhost:8080/",
          "height": 430
        }
      },
      "execution_count": 25,
      "outputs": [
        {
          "output_type": "display_data",
          "data": {
            "text/plain": [
              "<Figure size 640x480 with 1 Axes>"
            ],
            "image/png": "[encoded data removed]"
          },
          "metadata": {}
        }
      ]
    }
  ]
}